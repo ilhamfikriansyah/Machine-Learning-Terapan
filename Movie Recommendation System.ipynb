{
  "nbformat": 4,
  "nbformat_minor": 0,
  "metadata": {
    "accelerator": "GPU",
    "colab": {
      "name": "Proyek Akhir revisi",
      "provenance": [],
      "collapsed_sections": [
        "leFM97Hvo33e",
        "aP89OBlvpF8A",
        "tsQMjfYApkwg",
        "3RPbFVjgpxE1"
      ]
    },
    "kernelspec": {
      "display_name": "Python 3",
      "name": "python3"
    },
    "language_info": {
      "name": "python"
    }
  },
  "cells": [
    {
      "cell_type": "markdown",
      "metadata": {
        "id": "leFM97Hvo33e"
      },
      "source": [
        "#Membaca Data"
      ]
    },
    {
      "cell_type": "markdown",
      "metadata": {
        "id": "TXnx43dLIfDp"
      },
      "source": [
        "\n",
        "Pada tahap ini  akan menghubungkan google colab dengan kaggle sehingga pengambilan dataset dapat lebih cepat dan mudah, hal yang perlu dilakukan adalah sebagai berikut\n",
        "\n",
        "1. Hubungkan google drive pada google colab\n",
        "2. Dapatkan Token API dari Kaggle Profile\n",
        "3. Upload Kaggle API json ke folder pada Google drive\n",
        "4. Download dataset dari Kaggle API yang diinginkan\n",
        "5. ekstrak file tersebut\n",
        "6. read file tersebut menggunakan code dan pastikan path penyimpanan telah sesuai"
      ]
    },
    {
      "cell_type": "code",
      "metadata": {
        "colab": {
          "base_uri": "https://localhost:8080/"
        },
        "id": "1m5acrzM1aVW",
        "outputId": "37e6129e-28db-4d24-a89a-9b1e2d403150"
      },
      "source": [
        "from google.colab import drive\n",
        "drive.mount('/content/gdrive')"
      ],
      "execution_count": 1,
      "outputs": [
        {
          "output_type": "stream",
          "name": "stdout",
          "text": [
            "Drive already mounted at /content/gdrive; to attempt to forcibly remount, call drive.mount(\"/content/gdrive\", force_remount=True).\n"
          ]
        }
      ]
    },
    {
      "cell_type": "markdown",
      "metadata": {
        "id": "TgAG5eyfIpuP"
      },
      "source": [
        "Tahap ini adalah tahap menghubungkan google drive ke google colab"
      ]
    },
    {
      "cell_type": "code",
      "metadata": {
        "id": "0ArbRRaj16vY"
      },
      "source": [
        "import os\n",
        "os.environ['KAGGLE_CONFIG_DIR'] = \"/content/gdrive/My Drive/Kaggle\""
      ],
      "execution_count": 2,
      "outputs": []
    },
    {
      "cell_type": "markdown",
      "metadata": {
        "id": "DVFvKUNUIqmR"
      },
      "source": [
        "Tahap ini adalah tahap menghubungakan direktori file API json yang telah di upload ke direktori pada google colab"
      ]
    },
    {
      "cell_type": "code",
      "metadata": {
        "colab": {
          "base_uri": "https://localhost:8080/"
        },
        "id": "3AwFq3iY253P",
        "outputId": "2c1c29eb-1782-4666-8915-51aa22b4122d"
      },
      "source": [
        "%cd /content/gdrive/My Drive/Kaggle"
      ],
      "execution_count": 3,
      "outputs": [
        {
          "output_type": "stream",
          "name": "stdout",
          "text": [
            "/content/gdrive/My Drive/Kaggle\n"
          ]
        }
      ]
    },
    {
      "cell_type": "markdown",
      "metadata": {
        "id": "xUE-geQ4Iwu4"
      },
      "source": [
        "Tahap ini adalah tahap mengarahkan file yang di download nanti pada direktrori /content/gdrive/My Drive/Kaggle"
      ]
    },
    {
      "cell_type": "code",
      "metadata": {
        "colab": {
          "base_uri": "https://localhost:8080/"
        },
        "id": "tN0_UfgB29nX",
        "outputId": "0e8c0fc3-6cc2-4962-bdaf-e6a4179c6756"
      },
      "source": [
        "!kaggle datasets download -d rounakbanik/the-movies-dataset"
      ],
      "execution_count": 4,
      "outputs": [
        {
          "output_type": "stream",
          "name": "stdout",
          "text": [
            "the-movies-dataset.zip: Skipping, found more recently modified local copy (use --force to force download)\n"
          ]
        }
      ]
    },
    {
      "cell_type": "markdown",
      "metadata": {
        "id": "0rA6vEThY-VM"
      },
      "source": [
        "Tahap ini mendownload file yang ada pada kaggle menggunakan API"
      ]
    },
    {
      "cell_type": "code",
      "metadata": {
        "colab": {
          "base_uri": "https://localhost:8080/"
        },
        "id": "wR_Goa8w3HNc",
        "outputId": "3bca20b5-6497-47d0-e5c2-c893a25a9b71"
      },
      "source": [
        "!unzip \\*.zip  && rm *.zip"
      ],
      "execution_count": 5,
      "outputs": [
        {
          "output_type": "stream",
          "name": "stdout",
          "text": [
            "Archive:  the-movies-dataset.zip\n",
            "replace credits.csv? [y]es, [n]o, [A]ll, [N]one, [r]ename: "
          ]
        }
      ]
    },
    {
      "cell_type": "markdown",
      "metadata": {
        "id": "dRE7VWw3JBCR"
      },
      "source": [
        "Tahap ini adalah mengekstrak file yang ada pada google drive"
      ]
    },
    {
      "cell_type": "code",
      "metadata": {
        "colab": {
          "base_uri": "https://localhost:8080/",
          "height": 675
        },
        "id": "7BkubMsc8i-N",
        "outputId": "b86d5b58-24be-49cc-dcc8-07c5ddf3edff"
      },
      "source": [
        "import pandas as pd\n",
        "import numpy as np\n",
        "\n",
        "\n",
        "movies_metadata = pd.read_csv('/content/gdrive/MyDrive/Kaggle/movies_metadata.csv')\n",
        "movies_metadata.head()"
      ],
      "execution_count": 6,
      "outputs": [
        {
          "output_type": "stream",
          "name": "stderr",
          "text": [
            "/usr/local/lib/python3.7/dist-packages/IPython/core/interactiveshell.py:2718: DtypeWarning: Columns (10) have mixed types.Specify dtype option on import or set low_memory=False.\n",
            "  interactivity=interactivity, compiler=compiler, result=result)\n"
          ]
        },
        {
          "output_type": "execute_result",
          "data": {
            "text/html": [
              "<div>\n",
              "<style scoped>\n",
              "    .dataframe tbody tr th:only-of-type {\n",
              "        vertical-align: middle;\n",
              "    }\n",
              "\n",
              "    .dataframe tbody tr th {\n",
              "        vertical-align: top;\n",
              "    }\n",
              "\n",
              "    .dataframe thead th {\n",
              "        text-align: right;\n",
              "    }\n",
              "</style>\n",
              "<table border=\"1\" class=\"dataframe\">\n",
              "  <thead>\n",
              "    <tr style=\"text-align: right;\">\n",
              "      <th></th>\n",
              "      <th>adult</th>\n",
              "      <th>belongs_to_collection</th>\n",
              "      <th>budget</th>\n",
              "      <th>genres</th>\n",
              "      <th>homepage</th>\n",
              "      <th>id</th>\n",
              "      <th>imdb_id</th>\n",
              "      <th>original_language</th>\n",
              "      <th>original_title</th>\n",
              "      <th>overview</th>\n",
              "      <th>popularity</th>\n",
              "      <th>poster_path</th>\n",
              "      <th>production_companies</th>\n",
              "      <th>production_countries</th>\n",
              "      <th>release_date</th>\n",
              "      <th>revenue</th>\n",
              "      <th>runtime</th>\n",
              "      <th>spoken_languages</th>\n",
              "      <th>status</th>\n",
              "      <th>tagline</th>\n",
              "      <th>title</th>\n",
              "      <th>video</th>\n",
              "      <th>vote_average</th>\n",
              "      <th>vote_count</th>\n",
              "    </tr>\n",
              "  </thead>\n",
              "  <tbody>\n",
              "    <tr>\n",
              "      <th>0</th>\n",
              "      <td>False</td>\n",
              "      <td>{'id': 10194, 'name': 'Toy Story Collection', ...</td>\n",
              "      <td>30000000</td>\n",
              "      <td>[{'id': 16, 'name': 'Animation'}, {'id': 35, '...</td>\n",
              "      <td>http://toystory.disney.com/toy-story</td>\n",
              "      <td>862</td>\n",
              "      <td>tt0114709</td>\n",
              "      <td>en</td>\n",
              "      <td>Toy Story</td>\n",
              "      <td>Led by Woody, Andy's toys live happily in his ...</td>\n",
              "      <td>21.9469</td>\n",
              "      <td>/rhIRbceoE9lR4veEXuwCC2wARtG.jpg</td>\n",
              "      <td>[{'name': 'Pixar Animation Studios', 'id': 3}]</td>\n",
              "      <td>[{'iso_3166_1': 'US', 'name': 'United States o...</td>\n",
              "      <td>1995-10-30</td>\n",
              "      <td>373554033.0</td>\n",
              "      <td>81.0</td>\n",
              "      <td>[{'iso_639_1': 'en', 'name': 'English'}]</td>\n",
              "      <td>Released</td>\n",
              "      <td>NaN</td>\n",
              "      <td>Toy Story</td>\n",
              "      <td>False</td>\n",
              "      <td>7.7</td>\n",
              "      <td>5415.0</td>\n",
              "    </tr>\n",
              "    <tr>\n",
              "      <th>1</th>\n",
              "      <td>False</td>\n",
              "      <td>NaN</td>\n",
              "      <td>65000000</td>\n",
              "      <td>[{'id': 12, 'name': 'Adventure'}, {'id': 14, '...</td>\n",
              "      <td>NaN</td>\n",
              "      <td>8844</td>\n",
              "      <td>tt0113497</td>\n",
              "      <td>en</td>\n",
              "      <td>Jumanji</td>\n",
              "      <td>When siblings Judy and Peter discover an encha...</td>\n",
              "      <td>17.0155</td>\n",
              "      <td>/vzmL6fP7aPKNKPRTFnZmiUfciyV.jpg</td>\n",
              "      <td>[{'name': 'TriStar Pictures', 'id': 559}, {'na...</td>\n",
              "      <td>[{'iso_3166_1': 'US', 'name': 'United States o...</td>\n",
              "      <td>1995-12-15</td>\n",
              "      <td>262797249.0</td>\n",
              "      <td>104.0</td>\n",
              "      <td>[{'iso_639_1': 'en', 'name': 'English'}, {'iso...</td>\n",
              "      <td>Released</td>\n",
              "      <td>Roll the dice and unleash the excitement!</td>\n",
              "      <td>Jumanji</td>\n",
              "      <td>False</td>\n",
              "      <td>6.9</td>\n",
              "      <td>2413.0</td>\n",
              "    </tr>\n",
              "    <tr>\n",
              "      <th>2</th>\n",
              "      <td>False</td>\n",
              "      <td>{'id': 119050, 'name': 'Grumpy Old Men Collect...</td>\n",
              "      <td>0</td>\n",
              "      <td>[{'id': 10749, 'name': 'Romance'}, {'id': 35, ...</td>\n",
              "      <td>NaN</td>\n",
              "      <td>15602</td>\n",
              "      <td>tt0113228</td>\n",
              "      <td>en</td>\n",
              "      <td>Grumpier Old Men</td>\n",
              "      <td>A family wedding reignites the ancient feud be...</td>\n",
              "      <td>11.7129</td>\n",
              "      <td>/6ksm1sjKMFLbO7UY2i6G1ju9SML.jpg</td>\n",
              "      <td>[{'name': 'Warner Bros.', 'id': 6194}, {'name'...</td>\n",
              "      <td>[{'iso_3166_1': 'US', 'name': 'United States o...</td>\n",
              "      <td>1995-12-22</td>\n",
              "      <td>0.0</td>\n",
              "      <td>101.0</td>\n",
              "      <td>[{'iso_639_1': 'en', 'name': 'English'}]</td>\n",
              "      <td>Released</td>\n",
              "      <td>Still Yelling. Still Fighting. Still Ready for...</td>\n",
              "      <td>Grumpier Old Men</td>\n",
              "      <td>False</td>\n",
              "      <td>6.5</td>\n",
              "      <td>92.0</td>\n",
              "    </tr>\n",
              "    <tr>\n",
              "      <th>3</th>\n",
              "      <td>False</td>\n",
              "      <td>NaN</td>\n",
              "      <td>16000000</td>\n",
              "      <td>[{'id': 35, 'name': 'Comedy'}, {'id': 18, 'nam...</td>\n",
              "      <td>NaN</td>\n",
              "      <td>31357</td>\n",
              "      <td>tt0114885</td>\n",
              "      <td>en</td>\n",
              "      <td>Waiting to Exhale</td>\n",
              "      <td>Cheated on, mistreated and stepped on, the wom...</td>\n",
              "      <td>3.85949</td>\n",
              "      <td>/16XOMpEaLWkrcPqSQqhTmeJuqQl.jpg</td>\n",
              "      <td>[{'name': 'Twentieth Century Fox Film Corporat...</td>\n",
              "      <td>[{'iso_3166_1': 'US', 'name': 'United States o...</td>\n",
              "      <td>1995-12-22</td>\n",
              "      <td>81452156.0</td>\n",
              "      <td>127.0</td>\n",
              "      <td>[{'iso_639_1': 'en', 'name': 'English'}]</td>\n",
              "      <td>Released</td>\n",
              "      <td>Friends are the people who let you be yourself...</td>\n",
              "      <td>Waiting to Exhale</td>\n",
              "      <td>False</td>\n",
              "      <td>6.1</td>\n",
              "      <td>34.0</td>\n",
              "    </tr>\n",
              "    <tr>\n",
              "      <th>4</th>\n",
              "      <td>False</td>\n",
              "      <td>{'id': 96871, 'name': 'Father of the Bride Col...</td>\n",
              "      <td>0</td>\n",
              "      <td>[{'id': 35, 'name': 'Comedy'}]</td>\n",
              "      <td>NaN</td>\n",
              "      <td>11862</td>\n",
              "      <td>tt0113041</td>\n",
              "      <td>en</td>\n",
              "      <td>Father of the Bride Part II</td>\n",
              "      <td>Just when George Banks has recovered from his ...</td>\n",
              "      <td>8.38752</td>\n",
              "      <td>/e64sOI48hQXyru7naBFyssKFxVd.jpg</td>\n",
              "      <td>[{'name': 'Sandollar Productions', 'id': 5842}...</td>\n",
              "      <td>[{'iso_3166_1': 'US', 'name': 'United States o...</td>\n",
              "      <td>1995-02-10</td>\n",
              "      <td>76578911.0</td>\n",
              "      <td>106.0</td>\n",
              "      <td>[{'iso_639_1': 'en', 'name': 'English'}]</td>\n",
              "      <td>Released</td>\n",
              "      <td>Just When His World Is Back To Normal... He's ...</td>\n",
              "      <td>Father of the Bride Part II</td>\n",
              "      <td>False</td>\n",
              "      <td>5.7</td>\n",
              "      <td>173.0</td>\n",
              "    </tr>\n",
              "  </tbody>\n",
              "</table>\n",
              "</div>"
            ],
            "text/plain": [
              "   adult  ... vote_count\n",
              "0  False  ...     5415.0\n",
              "1  False  ...     2413.0\n",
              "2  False  ...       92.0\n",
              "3  False  ...       34.0\n",
              "4  False  ...      173.0\n",
              "\n",
              "[5 rows x 24 columns]"
            ]
          },
          "metadata": {},
          "execution_count": 6
        }
      ]
    },
    {
      "cell_type": "markdown",
      "metadata": {
        "id": "dzLDuyqRJOWI"
      },
      "source": [
        "Tahap ini adalah tahap mengimport libary untuk membaca file dan menampilkan 5 data awal"
      ]
    },
    {
      "cell_type": "code",
      "metadata": {
        "id": "w2pXEpc3MJgv"
      },
      "source": [
        "remove_n = 40000\n",
        "np.random.seed(0)\n",
        "drop_indices = np.random.choice(movies_metadata.index, remove_n, replace=False)\n",
        "movies_metadata = movies_metadata.drop(drop_indices)"
      ],
      "execution_count": 7,
      "outputs": []
    },
    {
      "cell_type": "markdown",
      "metadata": {
        "id": "O06VQuwBX4Ra"
      },
      "source": [
        "Tahap ini data dikurangi karena spesifikasi laptop yang digunakan tidak kompatibel untuk data yang terlalu banyak\n"
      ]
    },
    {
      "cell_type": "code",
      "metadata": {
        "colab": {
          "base_uri": "https://localhost:8080/"
        },
        "id": "OHu7WSqcNpme",
        "outputId": "c2fe2a6b-d68e-49b0-ba55-90fbf2a8ba9b"
      },
      "source": [
        "len(movies_metadata)"
      ],
      "execution_count": 8,
      "outputs": [
        {
          "output_type": "execute_result",
          "data": {
            "text/plain": [
              "5466"
            ]
          },
          "metadata": {},
          "execution_count": 8
        }
      ]
    },
    {
      "cell_type": "markdown",
      "metadata": {
        "id": "MBvIm_pvYaAo"
      },
      "source": [
        "Jumlah data yang digunakan untuk diproeses adalah 5466 baris"
      ]
    },
    {
      "cell_type": "markdown",
      "metadata": {
        "id": "aP89OBlvpF8A"
      },
      "source": [
        "#Membersihkan dan Mempersiapkan Data"
      ]
    },
    {
      "cell_type": "code",
      "metadata": {
        "colab": {
          "base_uri": "https://localhost:8080/"
        },
        "id": "1Jun8284-yRZ",
        "outputId": "f6650bc2-3af5-43e3-9160-878de0e28a1e"
      },
      "source": [
        "movies_metadata.info()"
      ],
      "execution_count": 9,
      "outputs": [
        {
          "output_type": "stream",
          "name": "stdout",
          "text": [
            "<class 'pandas.core.frame.DataFrame'>\n",
            "Int64Index: 5466 entries, 10 to 45461\n",
            "Data columns (total 24 columns):\n",
            " #   Column                 Non-Null Count  Dtype  \n",
            "---  ------                 --------------  -----  \n",
            " 0   adult                  5466 non-null   object \n",
            " 1   belongs_to_collection  533 non-null    object \n",
            " 2   budget                 5466 non-null   object \n",
            " 3   genres                 5466 non-null   object \n",
            " 4   homepage               935 non-null    object \n",
            " 5   id                     5466 non-null   object \n",
            " 6   imdb_id                5465 non-null   object \n",
            " 7   original_language      5463 non-null   object \n",
            " 8   original_title         5466 non-null   object \n",
            " 9   overview               5346 non-null   object \n",
            " 10  popularity             5466 non-null   object \n",
            " 11  poster_path            5409 non-null   object \n",
            " 12  production_companies   5466 non-null   object \n",
            " 13  production_countries   5466 non-null   object \n",
            " 14  release_date           5457 non-null   object \n",
            " 15  revenue                5466 non-null   float64\n",
            " 16  runtime                5431 non-null   float64\n",
            " 17  spoken_languages       5466 non-null   object \n",
            " 18  status                 5453 non-null   object \n",
            " 19  tagline                2498 non-null   object \n",
            " 20  title                  5466 non-null   object \n",
            " 21  video                  5466 non-null   object \n",
            " 22  vote_average           5466 non-null   float64\n",
            " 23  vote_count             5466 non-null   float64\n",
            "dtypes: float64(4), object(20)\n",
            "memory usage: 1.0+ MB\n"
          ]
        }
      ]
    },
    {
      "cell_type": "markdown",
      "metadata": {
        "id": "U1nX3YBHJZoN"
      },
      "source": [
        "Pada tahap ini kita dapat melihat informasi tentang DataFrame pada data yang telah dibaca berupa indeks dtype, kolom, nilai non-null, dan penggunaan memori.\n",
        "\n",
        "Data yang digunakan kali ini tidak memiliki nilai null"
      ]
    },
    {
      "cell_type": "code",
      "metadata": {
        "colab": {
          "base_uri": "https://localhost:8080/"
        },
        "id": "311dF8DzuxGB",
        "outputId": "bb404606-25db-498e-e462-6bf655cb3bae"
      },
      "source": [
        "movies_metadata.genres.unique()"
      ],
      "execution_count": 10,
      "outputs": [
        {
          "output_type": "execute_result",
          "data": {
            "text/plain": [
              "array([\"[{'id': 35, 'name': 'Comedy'}, {'id': 18, 'name': 'Drama'}, {'id': 10749, 'name': 'Romance'}]\",\n",
              "       \"[{'id': 35, 'name': 'Comedy'}, {'id': 27, 'name': 'Horror'}]\",\n",
              "       \"[{'id': 36, 'name': 'History'}, {'id': 18, 'name': 'Drama'}]\",\n",
              "       ...,\n",
              "       \"[{'id': 14, 'name': 'Fantasy'}, {'id': 10751, 'name': 'Family'}]\",\n",
              "       \"[{'id': 27, 'name': 'Horror'}, {'id': 35, 'name': 'Comedy'}, {'id': 9648, 'name': 'Mystery'}]\",\n",
              "       \"[{'id': 14, 'name': 'Fantasy'}, {'id': 35, 'name': 'Comedy'}, {'id': 10749, 'name': 'Romance'}, {'id': 18, 'name': 'Drama'}]\"],\n",
              "      dtype=object)"
            ]
          },
          "metadata": {},
          "execution_count": 10
        }
      ]
    },
    {
      "cell_type": "markdown",
      "metadata": {
        "id": "YyK65D_dUQ0X"
      },
      "source": [
        "Pada tahap ini melihat unique value dari kolom genre"
      ]
    },
    {
      "cell_type": "code",
      "metadata": {
        "colab": {
          "base_uri": "https://localhost:8080/"
        },
        "id": "v4sKJBHY9Jet",
        "outputId": "ce4f7f6e-8f58-4d35-9cfd-661dd3d6f29e"
      },
      "source": [
        "len(movies_metadata.genres.unique())\n"
      ],
      "execution_count": 11,
      "outputs": [
        {
          "output_type": "execute_result",
          "data": {
            "text/plain": [
              "1091"
            ]
          },
          "metadata": {},
          "execution_count": 11
        }
      ]
    },
    {
      "cell_type": "markdown",
      "metadata": {
        "id": "YHu0v5JKUZE2"
      },
      "source": [
        "Pada tahap ini melihat panjang dari unique value dari kolom genre"
      ]
    },
    {
      "cell_type": "code",
      "metadata": {
        "colab": {
          "base_uri": "https://localhost:8080/"
        },
        "id": "TDYUxXKHAb_I",
        "outputId": "d0ade041-ba1d-4e68-ab58-c7f9416e22f7"
      },
      "source": [
        "judul = movies_metadata['original_title'].tolist()\n",
        "genre = movies_metadata['genres'].tolist()\n",
        "\n",
        "print(len(judul))\n",
        "print(len(genre))"
      ],
      "execution_count": 12,
      "outputs": [
        {
          "output_type": "stream",
          "name": "stdout",
          "text": [
            "5466\n",
            "5466\n"
          ]
        }
      ]
    },
    {
      "cell_type": "markdown",
      "metadata": {
        "id": "dH1EVxPvVPxd"
      },
      "source": [
        "pada tahap ini dipilih beberapa kolom berdasarkan data yang dibutuhkan untuk melakukan content based learning berdasarkan genre yaitu judul dan genre "
      ]
    },
    {
      "cell_type": "code",
      "metadata": {
        "colab": {
          "base_uri": "https://localhost:8080/",
          "height": 200
        },
        "id": "4djsLSxD_EWT",
        "outputId": "f1a2e6eb-3e69-4960-ee0f-bf3bd3e30f33"
      },
      "source": [
        "data = pd.DataFrame({\n",
        "    'judul': judul,\n",
        "    'genre': genre\n",
        "})\n",
        "data.head()"
      ],
      "execution_count": 13,
      "outputs": [
        {
          "output_type": "execute_result",
          "data": {
            "text/html": [
              "<div>\n",
              "<style scoped>\n",
              "    .dataframe tbody tr th:only-of-type {\n",
              "        vertical-align: middle;\n",
              "    }\n",
              "\n",
              "    .dataframe tbody tr th {\n",
              "        vertical-align: top;\n",
              "    }\n",
              "\n",
              "    .dataframe thead th {\n",
              "        text-align: right;\n",
              "    }\n",
              "</style>\n",
              "<table border=\"1\" class=\"dataframe\">\n",
              "  <thead>\n",
              "    <tr style=\"text-align: right;\">\n",
              "      <th></th>\n",
              "      <th>judul</th>\n",
              "      <th>genre</th>\n",
              "    </tr>\n",
              "  </thead>\n",
              "  <tbody>\n",
              "    <tr>\n",
              "      <th>0</th>\n",
              "      <td>The American President</td>\n",
              "      <td>[{'id': 35, 'name': 'Comedy'}, {'id': 18, 'nam...</td>\n",
              "    </tr>\n",
              "    <tr>\n",
              "      <th>1</th>\n",
              "      <td>Dracula: Dead and Loving It</td>\n",
              "      <td>[{'id': 35, 'name': 'Comedy'}, {'id': 27, 'nam...</td>\n",
              "    </tr>\n",
              "    <tr>\n",
              "      <th>2</th>\n",
              "      <td>Nixon</td>\n",
              "      <td>[{'id': 36, 'name': 'History'}, {'id': 18, 'na...</td>\n",
              "    </tr>\n",
              "    <tr>\n",
              "      <th>3</th>\n",
              "      <td>Money Train</td>\n",
              "      <td>[{'id': 28, 'name': 'Action'}, {'id': 35, 'nam...</td>\n",
              "    </tr>\n",
              "    <tr>\n",
              "      <th>4</th>\n",
              "      <td>Now and Then</td>\n",
              "      <td>[{'id': 35, 'name': 'Comedy'}, {'id': 18, 'nam...</td>\n",
              "    </tr>\n",
              "  </tbody>\n",
              "</table>\n",
              "</div>"
            ],
            "text/plain": [
              "                         judul                                              genre\n",
              "0       The American President  [{'id': 35, 'name': 'Comedy'}, {'id': 18, 'nam...\n",
              "1  Dracula: Dead and Loving It  [{'id': 35, 'name': 'Comedy'}, {'id': 27, 'nam...\n",
              "2                        Nixon  [{'id': 36, 'name': 'History'}, {'id': 18, 'na...\n",
              "3                  Money Train  [{'id': 28, 'name': 'Action'}, {'id': 35, 'nam...\n",
              "4                 Now and Then  [{'id': 35, 'name': 'Comedy'}, {'id': 18, 'nam..."
            ]
          },
          "metadata": {},
          "execution_count": 13
        }
      ]
    },
    {
      "cell_type": "markdown",
      "metadata": {
        "id": "2E6a2Zn8Vwi-"
      },
      "source": [
        "pada tahap ini membuat data yang dipilih menjadi dalam bentuk dataframe sehingga mudah untuk dipersiapkan"
      ]
    },
    {
      "cell_type": "code",
      "metadata": {
        "colab": {
          "base_uri": "https://localhost:8080/"
        },
        "id": "tT6RQOl9ABkh",
        "outputId": "db36996c-8894-4c65-eaa5-f3aad313fd2d"
      },
      "source": [
        "data.info()"
      ],
      "execution_count": 14,
      "outputs": [
        {
          "output_type": "stream",
          "name": "stdout",
          "text": [
            "<class 'pandas.core.frame.DataFrame'>\n",
            "RangeIndex: 5466 entries, 0 to 5465\n",
            "Data columns (total 2 columns):\n",
            " #   Column  Non-Null Count  Dtype \n",
            "---  ------  --------------  ----- \n",
            " 0   judul   5466 non-null   object\n",
            " 1   genre   5466 non-null   object\n",
            "dtypes: object(2)\n",
            "memory usage: 85.5+ KB\n"
          ]
        }
      ]
    },
    {
      "cell_type": "markdown",
      "metadata": {
        "id": "xcOZvxj_WLSg"
      },
      "source": [
        "Pada tahap ini kita dapat melihat informasi tentang DataFrame pada data yang telah dibaca berupa indeks dtype, kolom, nilai non-null, dan penggunaan memori.\n",
        "\n",
        "Data yang digunakan kali ini tidak memiliki nilai null sehingga tidak ada data yang kosong yang perlu di isi atau dihapus"
      ]
    },
    {
      "cell_type": "code",
      "metadata": {
        "colab": {
          "base_uri": "https://localhost:8080/",
          "height": 216
        },
        "id": "CfTCA77FD68B",
        "outputId": "1d17403f-87e8-4862-a00f-271aacd27988"
      },
      "source": [
        "value_genre = pd.DataFrame(data['genre'].value_counts().reset_index().values, columns = ['genre', 'count'])\n",
        "print(len(value_genre))\n",
        "pd.options.display.max_colwidth = 500\n",
        "value_genre.head()"
      ],
      "execution_count": 15,
      "outputs": [
        {
          "output_type": "stream",
          "name": "stdout",
          "text": [
            "1091\n"
          ]
        },
        {
          "output_type": "execute_result",
          "data": {
            "text/html": [
              "<div>\n",
              "<style scoped>\n",
              "    .dataframe tbody tr th:only-of-type {\n",
              "        vertical-align: middle;\n",
              "    }\n",
              "\n",
              "    .dataframe tbody tr th {\n",
              "        vertical-align: top;\n",
              "    }\n",
              "\n",
              "    .dataframe thead th {\n",
              "        text-align: right;\n",
              "    }\n",
              "</style>\n",
              "<table border=\"1\" class=\"dataframe\">\n",
              "  <thead>\n",
              "    <tr style=\"text-align: right;\">\n",
              "      <th></th>\n",
              "      <th>genre</th>\n",
              "      <th>count</th>\n",
              "    </tr>\n",
              "  </thead>\n",
              "  <tbody>\n",
              "    <tr>\n",
              "      <th>0</th>\n",
              "      <td>[{'id': 18, 'name': 'Drama'}]</td>\n",
              "      <td>583</td>\n",
              "    </tr>\n",
              "    <tr>\n",
              "      <th>1</th>\n",
              "      <td>[{'id': 35, 'name': 'Comedy'}]</td>\n",
              "      <td>457</td>\n",
              "    </tr>\n",
              "    <tr>\n",
              "      <th>2</th>\n",
              "      <td>[{'id': 99, 'name': 'Documentary'}]</td>\n",
              "      <td>337</td>\n",
              "    </tr>\n",
              "    <tr>\n",
              "      <th>3</th>\n",
              "      <td>[]</td>\n",
              "      <td>295</td>\n",
              "    </tr>\n",
              "    <tr>\n",
              "      <th>4</th>\n",
              "      <td>[{'id': 18, 'name': 'Drama'}, {'id': 10749, 'name': 'Romance'}]</td>\n",
              "      <td>137</td>\n",
              "    </tr>\n",
              "  </tbody>\n",
              "</table>\n",
              "</div>"
            ],
            "text/plain": [
              "                                                             genre count\n",
              "0                                    [{'id': 18, 'name': 'Drama'}]   583\n",
              "1                                   [{'id': 35, 'name': 'Comedy'}]   457\n",
              "2                              [{'id': 99, 'name': 'Documentary'}]   337\n",
              "3                                                               []   295\n",
              "4  [{'id': 18, 'name': 'Drama'}, {'id': 10749, 'name': 'Romance'}]   137"
            ]
          },
          "metadata": {},
          "execution_count": 15
        }
      ]
    },
    {
      "cell_type": "markdown",
      "metadata": {
        "id": "S1W9QbehWRz-"
      },
      "source": [
        "Pada tahap ini melihat banyaknya data dari setiap unique value berdasarkan genre"
      ]
    },
    {
      "cell_type": "code",
      "metadata": {
        "id": "gMw8kNzMGrXX"
      },
      "source": [
        "data = data[data.genre != '[]']"
      ],
      "execution_count": 16,
      "outputs": []
    },
    {
      "cell_type": "markdown",
      "metadata": {
        "id": "k7n5hE5fWmHA"
      },
      "source": [
        "Pada tahap ini dilakukan penghapusan data baris genre yang berisi nilai \"[]\""
      ]
    },
    {
      "cell_type": "code",
      "metadata": {
        "colab": {
          "base_uri": "https://localhost:8080/"
        },
        "id": "cPEAE4zMLI_O",
        "outputId": "5b458f0e-7b04-4abb-e4db-ba8bb1e1941e"
      },
      "source": [
        "data.genre.unique()"
      ],
      "execution_count": 17,
      "outputs": [
        {
          "output_type": "execute_result",
          "data": {
            "text/plain": [
              "array([\"[{'id': 35, 'name': 'Comedy'}, {'id': 18, 'name': 'Drama'}, {'id': 10749, 'name': 'Romance'}]\",\n",
              "       \"[{'id': 35, 'name': 'Comedy'}, {'id': 27, 'name': 'Horror'}]\",\n",
              "       \"[{'id': 36, 'name': 'History'}, {'id': 18, 'name': 'Drama'}]\",\n",
              "       ...,\n",
              "       \"[{'id': 14, 'name': 'Fantasy'}, {'id': 10751, 'name': 'Family'}]\",\n",
              "       \"[{'id': 27, 'name': 'Horror'}, {'id': 35, 'name': 'Comedy'}, {'id': 9648, 'name': 'Mystery'}]\",\n",
              "       \"[{'id': 14, 'name': 'Fantasy'}, {'id': 35, 'name': 'Comedy'}, {'id': 10749, 'name': 'Romance'}, {'id': 18, 'name': 'Drama'}]\"],\n",
              "      dtype=object)"
            ]
          },
          "metadata": {},
          "execution_count": 17
        }
      ]
    },
    {
      "cell_type": "markdown",
      "metadata": {
        "id": "5-X0wFwRW0C2"
      },
      "source": [
        "Pada tahap ini kembali melihat unique value dari data dengan kolom genre"
      ]
    },
    {
      "cell_type": "code",
      "metadata": {
        "colab": {
          "base_uri": "https://localhost:8080/"
        },
        "id": "pEqG0lMNLbO2",
        "outputId": "38908710-538f-4e6d-9e37-ff70f5fefcda"
      },
      "source": [
        "len(data.genre.unique())"
      ],
      "execution_count": 18,
      "outputs": [
        {
          "output_type": "execute_result",
          "data": {
            "text/plain": [
              "1090"
            ]
          },
          "metadata": {},
          "execution_count": 18
        }
      ]
    },
    {
      "cell_type": "markdown",
      "metadata": {
        "id": "LJP5PPFcW_hM"
      },
      "source": [
        "Pada tahap ini diperlihatkan panjang baris dari data genre yang telah dikurangi data genre yang bervalue \"[]\""
      ]
    },
    {
      "cell_type": "code",
      "metadata": {
        "colab": {
          "base_uri": "https://localhost:8080/"
        },
        "id": "aE0_GM7iGeJz",
        "outputId": "bcd8ffc1-5c59-45b0-8f0d-aacd5cd044ce"
      },
      "source": [
        "len(data)"
      ],
      "execution_count": 19,
      "outputs": [
        {
          "output_type": "execute_result",
          "data": {
            "text/plain": [
              "5171"
            ]
          },
          "metadata": {},
          "execution_count": 19
        }
      ]
    },
    {
      "cell_type": "markdown",
      "metadata": {
        "id": "encIW6riXJJq"
      },
      "source": [
        "Pada tahap ini diperlihatkan banyak baris dari data yang digunakan"
      ]
    },
    {
      "cell_type": "code",
      "metadata": {
        "colab": {
          "base_uri": "https://localhost:8080/"
        },
        "id": "oV8kk1-EPPSU",
        "outputId": "e52de051-ed85-4b7d-9898-282b38a3b939"
      },
      "source": [
        "data = data.drop_duplicates('judul')\n",
        "len(data)"
      ],
      "execution_count": 20,
      "outputs": [
        {
          "output_type": "execute_result",
          "data": {
            "text/plain": [
              "5134"
            ]
          },
          "metadata": {},
          "execution_count": 20
        }
      ]
    },
    {
      "cell_type": "markdown",
      "metadata": {
        "id": "Cbr7maTVXcSf"
      },
      "source": [
        "Pada tahap ini dihapus baris data yang sama berdasarkan kolom judul dan melihat kembali panjang datanya"
      ]
    },
    {
      "cell_type": "code",
      "metadata": {
        "colab": {
          "base_uri": "https://localhost:8080/"
        },
        "id": "AsCz2qp9Lvya",
        "outputId": "1b4d7bef-bb9c-413f-9627-0b91057e4ed8"
      },
      "source": [
        "data.shape"
      ],
      "execution_count": 21,
      "outputs": [
        {
          "output_type": "execute_result",
          "data": {
            "text/plain": [
              "(5134, 2)"
            ]
          },
          "metadata": {},
          "execution_count": 21
        }
      ]
    },
    {
      "cell_type": "markdown",
      "metadata": {
        "id": "yKnMh76SXiOK"
      },
      "source": [
        "Pada tahap ini diperlihatkan ukuran dari matriks data yang digunakan"
      ]
    },
    {
      "cell_type": "code",
      "metadata": {
        "colab": {
          "base_uri": "https://localhost:8080/",
          "height": 200
        },
        "id": "yD5_81UXpVoI",
        "outputId": "577d5931-cc8d-4cc7-9d65-01df1a2cd5fd"
      },
      "source": [
        "data.reset_index()\n",
        "data.head()"
      ],
      "execution_count": 22,
      "outputs": [
        {
          "output_type": "execute_result",
          "data": {
            "text/html": [
              "<div>\n",
              "<style scoped>\n",
              "    .dataframe tbody tr th:only-of-type {\n",
              "        vertical-align: middle;\n",
              "    }\n",
              "\n",
              "    .dataframe tbody tr th {\n",
              "        vertical-align: top;\n",
              "    }\n",
              "\n",
              "    .dataframe thead th {\n",
              "        text-align: right;\n",
              "    }\n",
              "</style>\n",
              "<table border=\"1\" class=\"dataframe\">\n",
              "  <thead>\n",
              "    <tr style=\"text-align: right;\">\n",
              "      <th></th>\n",
              "      <th>judul</th>\n",
              "      <th>genre</th>\n",
              "    </tr>\n",
              "  </thead>\n",
              "  <tbody>\n",
              "    <tr>\n",
              "      <th>0</th>\n",
              "      <td>The American President</td>\n",
              "      <td>[{'id': 35, 'name': 'Comedy'}, {'id': 18, 'name': 'Drama'}, {'id': 10749, 'name': 'Romance'}]</td>\n",
              "    </tr>\n",
              "    <tr>\n",
              "      <th>1</th>\n",
              "      <td>Dracula: Dead and Loving It</td>\n",
              "      <td>[{'id': 35, 'name': 'Comedy'}, {'id': 27, 'name': 'Horror'}]</td>\n",
              "    </tr>\n",
              "    <tr>\n",
              "      <th>2</th>\n",
              "      <td>Nixon</td>\n",
              "      <td>[{'id': 36, 'name': 'History'}, {'id': 18, 'name': 'Drama'}]</td>\n",
              "    </tr>\n",
              "    <tr>\n",
              "      <th>3</th>\n",
              "      <td>Money Train</td>\n",
              "      <td>[{'id': 28, 'name': 'Action'}, {'id': 35, 'name': 'Comedy'}, {'id': 80, 'name': 'Crime'}]</td>\n",
              "    </tr>\n",
              "    <tr>\n",
              "      <th>4</th>\n",
              "      <td>Now and Then</td>\n",
              "      <td>[{'id': 35, 'name': 'Comedy'}, {'id': 18, 'name': 'Drama'}, {'id': 10751, 'name': 'Family'}]</td>\n",
              "    </tr>\n",
              "  </tbody>\n",
              "</table>\n",
              "</div>"
            ],
            "text/plain": [
              "                         judul                                                                                          genre\n",
              "0       The American President  [{'id': 35, 'name': 'Comedy'}, {'id': 18, 'name': 'Drama'}, {'id': 10749, 'name': 'Romance'}]\n",
              "1  Dracula: Dead and Loving It                                   [{'id': 35, 'name': 'Comedy'}, {'id': 27, 'name': 'Horror'}]\n",
              "2                        Nixon                                   [{'id': 36, 'name': 'History'}, {'id': 18, 'name': 'Drama'}]\n",
              "3                  Money Train      [{'id': 28, 'name': 'Action'}, {'id': 35, 'name': 'Comedy'}, {'id': 80, 'name': 'Crime'}]\n",
              "4                 Now and Then   [{'id': 35, 'name': 'Comedy'}, {'id': 18, 'name': 'Drama'}, {'id': 10751, 'name': 'Family'}]"
            ]
          },
          "metadata": {},
          "execution_count": 22
        }
      ]
    },
    {
      "cell_type": "markdown",
      "metadata": {
        "id": "NkkvP8d1X2NX"
      },
      "source": [
        "Pada tahap ini dilakukan indeks ulang pada data yang digunakan agar penomoran berurutan"
      ]
    },
    {
      "cell_type": "code",
      "metadata": {
        "id": "7qi8QrnW-A4c"
      },
      "source": [
        "def str_to_list(x):\n",
        "    genre_list = []\n",
        "    for item in eval(x):\n",
        "        genre_list.append(item['name'])\n",
        "    return genre_list\n",
        "\n",
        "data.genre = data.genre.apply(str_to_list)"
      ],
      "execution_count": 23,
      "outputs": []
    },
    {
      "cell_type": "markdown",
      "metadata": {
        "id": "DGkZSkKYX8Ab"
      },
      "source": [
        "Pada tahap ini diambil value name dari genre dari data genre yang berisi id dan name, sehingga data genre dapat terlihat lebih jelas "
      ]
    },
    {
      "cell_type": "code",
      "metadata": {
        "colab": {
          "base_uri": "https://localhost:8080/"
        },
        "id": "reBoiev8ETrh",
        "outputId": "fa37f3fc-2013-4216-a9c6-93c1baba211d"
      },
      "source": [
        "judul = data['judul'].tolist()\n",
        "genre = data['genre'].tolist()\n",
        "\n",
        "print(len(judul))\n",
        "print(len(genre))"
      ],
      "execution_count": 24,
      "outputs": [
        {
          "output_type": "stream",
          "name": "stdout",
          "text": [
            "5134\n",
            "5134\n"
          ]
        }
      ]
    },
    {
      "cell_type": "markdown",
      "metadata": {
        "id": "M_VLKm1paY54"
      },
      "source": [
        "Pada tahap ini dilakukan konversi data series menjadi list"
      ]
    },
    {
      "cell_type": "code",
      "metadata": {
        "colab": {
          "base_uri": "https://localhost:8080/",
          "height": 200
        },
        "id": "XaDj1phIEU02",
        "outputId": "f5af34f3-00a1-4ae9-aff2-58e13d67cb1b"
      },
      "source": [
        "data = pd.DataFrame({\n",
        "    'judul': judul,\n",
        "    'genre': genre\n",
        "})\n",
        "data.head()"
      ],
      "execution_count": 25,
      "outputs": [
        {
          "output_type": "execute_result",
          "data": {
            "text/html": [
              "<div>\n",
              "<style scoped>\n",
              "    .dataframe tbody tr th:only-of-type {\n",
              "        vertical-align: middle;\n",
              "    }\n",
              "\n",
              "    .dataframe tbody tr th {\n",
              "        vertical-align: top;\n",
              "    }\n",
              "\n",
              "    .dataframe thead th {\n",
              "        text-align: right;\n",
              "    }\n",
              "</style>\n",
              "<table border=\"1\" class=\"dataframe\">\n",
              "  <thead>\n",
              "    <tr style=\"text-align: right;\">\n",
              "      <th></th>\n",
              "      <th>judul</th>\n",
              "      <th>genre</th>\n",
              "    </tr>\n",
              "  </thead>\n",
              "  <tbody>\n",
              "    <tr>\n",
              "      <th>0</th>\n",
              "      <td>The American President</td>\n",
              "      <td>[Comedy, Drama, Romance]</td>\n",
              "    </tr>\n",
              "    <tr>\n",
              "      <th>1</th>\n",
              "      <td>Dracula: Dead and Loving It</td>\n",
              "      <td>[Comedy, Horror]</td>\n",
              "    </tr>\n",
              "    <tr>\n",
              "      <th>2</th>\n",
              "      <td>Nixon</td>\n",
              "      <td>[History, Drama]</td>\n",
              "    </tr>\n",
              "    <tr>\n",
              "      <th>3</th>\n",
              "      <td>Money Train</td>\n",
              "      <td>[Action, Comedy, Crime]</td>\n",
              "    </tr>\n",
              "    <tr>\n",
              "      <th>4</th>\n",
              "      <td>Now and Then</td>\n",
              "      <td>[Comedy, Drama, Family]</td>\n",
              "    </tr>\n",
              "  </tbody>\n",
              "</table>\n",
              "</div>"
            ],
            "text/plain": [
              "                         judul                     genre\n",
              "0       The American President  [Comedy, Drama, Romance]\n",
              "1  Dracula: Dead and Loving It          [Comedy, Horror]\n",
              "2                        Nixon          [History, Drama]\n",
              "3                  Money Train   [Action, Comedy, Crime]\n",
              "4                 Now and Then   [Comedy, Drama, Family]"
            ]
          },
          "metadata": {},
          "execution_count": 25
        }
      ]
    },
    {
      "cell_type": "markdown",
      "metadata": {
        "id": "-AJkBnNqaglo"
      },
      "source": [
        "Pada tahap ini dibuat dictionary untuk menentukan pasangan key-value pada data \n",
        "judul dan genre"
      ]
    },
    {
      "cell_type": "code",
      "metadata": {
        "id": "0dJL-8Pd6qeg"
      },
      "source": [
        "genre = [str (item) for item in data['genre']]\n",
        "\n",
        "genre = [item for item in genre if not isinstance(item, int)]"
      ],
      "execution_count": 26,
      "outputs": []
    },
    {
      "cell_type": "markdown",
      "metadata": {
        "id": "G0nsJo0la6Kv"
      },
      "source": [
        "Pada tahap ini membuat data didalam genre menjadi string karena sebelumnya data didalam genre berupa series dan masih terdapat data bertipe integer sehingga tidak bisa diproses pada tahap selanjutnya"
      ]
    },
    {
      "cell_type": "markdown",
      "metadata": {
        "id": "tsQMjfYApkwg"
      },
      "source": [
        "#Feature Enggenering"
      ]
    },
    {
      "cell_type": "code",
      "metadata": {
        "colab": {
          "base_uri": "https://localhost:8080/",
          "height": 448
        },
        "id": "m6ggahvuSPKF",
        "outputId": "b6824f44-ed5d-4e95-d818-d2144fa48296"
      },
      "source": [
        "import matplotlib.pyplot as plt\n",
        "from wordcloud import WordCloud\n",
        "from collections import Counter\n",
        "\n",
        "word_could_dict=Counter(genre)\n",
        "wordcloud = WordCloud(width = 2000, height = 1000).generate_from_frequencies(word_could_dict)\n",
        "\n",
        "plt.figure(figsize=(15,8))\n",
        "plt.imshow(wordcloud)\n",
        "plt.axis(\"off\")\n",
        "plt.show()"
      ],
      "execution_count": 27,
      "outputs": [
        {
          "output_type": "display_data",
          "data": {
            "image/png": "[encoded data removed]",
            "text/plain": [
              "<Figure size 1080x576 with 1 Axes>"
            ]
          },
          "metadata": {
            "needs_background": "light"
          }
        }
      ]
    },
    {
      "cell_type": "markdown",
      "metadata": {
        "id": "5gg3iZRZgYt8"
      },
      "source": [
        "Pada tahap ini diperlihatkan genre pada seluruh data dengan ukuran berdasarkan genre yang paling banyak muncul menggunakan plot word cloud"
      ]
    },
    {
      "cell_type": "code",
      "metadata": {
        "colab": {
          "base_uri": "https://localhost:8080/"
        },
        "id": "wx1qGLdALzmW",
        "outputId": "da8ad936-ae4a-449b-c751-a8771f59fe1f"
      },
      "source": [
        "from sklearn.feature_extraction.text import CountVectorizer \n",
        " \n",
        "# Inisialisasi CountVectorizer\n",
        "tf = CountVectorizer()\n",
        " \n",
        "# Melakukan perhitungan idf pada data genre\n",
        "tf.fit(genre) \n",
        "\n",
        "# Mapping array dari fitur index integer ke fitur nama\n",
        "tf.get_feature_names()"
      ],
      "execution_count": 28,
      "outputs": [
        {
          "output_type": "execute_result",
          "data": {
            "text/plain": [
              "['action',\n",
              " 'adventure',\n",
              " 'animation',\n",
              " 'comedy',\n",
              " 'crime',\n",
              " 'documentary',\n",
              " 'drama',\n",
              " 'family',\n",
              " 'fantasy',\n",
              " 'fiction',\n",
              " 'foreign',\n",
              " 'history',\n",
              " 'horror',\n",
              " 'movie',\n",
              " 'music',\n",
              " 'mystery',\n",
              " 'romance',\n",
              " 'science',\n",
              " 'thriller',\n",
              " 'tv',\n",
              " 'war',\n",
              " 'western']"
            ]
          },
          "metadata": {},
          "execution_count": 28
        }
      ]
    },
    {
      "cell_type": "markdown",
      "metadata": {
        "id": "Czx0aWS9b8fI"
      },
      "source": [
        "Pada tahap ini membangun sistem rekomendasi sederhana berdasarkan genre yang ada pada setiap movies."
      ]
    },
    {
      "cell_type": "code",
      "metadata": {
        "colab": {
          "base_uri": "https://localhost:8080/"
        },
        "id": "RKoASx5SNzjB",
        "outputId": "d31e5ec1-a2f3-4e25-a130-3d063dfe02ea"
      },
      "source": [
        "# Melakukan fit lalu ditransformasikan ke bentuk matrix\n",
        "tfidf_matrix = tf.fit_transform(genre) \n",
        " \n",
        "# Melihat ukuran matrix tfidf\n",
        "tfidf_matrix.shape "
      ],
      "execution_count": 29,
      "outputs": [
        {
          "output_type": "execute_result",
          "data": {
            "text/plain": [
              "(5134, 22)"
            ]
          },
          "metadata": {},
          "execution_count": 29
        }
      ]
    },
    {
      "cell_type": "markdown",
      "metadata": {
        "id": "MczS4fe4cNJa"
      },
      "source": [
        "Pada tahap ini di lakukan proses fit dan transformasi ke dalam bentuk matriks"
      ]
    },
    {
      "cell_type": "code",
      "metadata": {
        "id": "v4yMwCaPf2cW",
        "colab": {
          "base_uri": "https://localhost:8080/"
        },
        "outputId": "f748c0f2-1328-4100-8c9f-f80b3c6bf2ca"
      },
      "source": [
        "# Mengubah vektor tf-idf dalam bentuk matriks dengan fungsi todense()\n",
        "tfidf_matrix.todense()"
      ],
      "execution_count": 30,
      "outputs": [
        {
          "output_type": "execute_result",
          "data": {
            "text/plain": [
              "matrix([[0, 0, 0, ..., 0, 0, 0],\n",
              "        [0, 0, 0, ..., 0, 0, 0],\n",
              "        [0, 0, 0, ..., 0, 0, 0],\n",
              "        ...,\n",
              "        [0, 0, 0, ..., 0, 0, 0],\n",
              "        [0, 0, 0, ..., 0, 0, 0],\n",
              "        [0, 0, 0, ..., 0, 0, 0]])"
            ]
          },
          "metadata": {},
          "execution_count": 30
        }
      ]
    },
    {
      "cell_type": "markdown",
      "metadata": {
        "id": "OIkkUuVstZNZ"
      },
      "source": [
        "Pada tahap ini bertujuan Untuk menghasilkan vektor tf-idf dalam bentuk matriks menggunakan fungsi todense()."
      ]
    },
    {
      "cell_type": "code",
      "metadata": {
        "id": "RyYnMNjgf9ZX",
        "colab": {
          "base_uri": "https://localhost:8080/",
          "height": 397
        },
        "outputId": "9b808b1a-3116-447c-8802-16e62526877e"
      },
      "source": [
        "pd.DataFrame(\n",
        "    tfidf_matrix.todense(), \n",
        "    columns=tf.get_feature_names(),\n",
        "    index=data.judul\n",
        ").sample(22, axis=1).sample(10, axis=0)"
      ],
      "execution_count": 31,
      "outputs": [
        {
          "output_type": "execute_result",
          "data": {
            "text/html": [
              "<div>\n",
              "<style scoped>\n",
              "    .dataframe tbody tr th:only-of-type {\n",
              "        vertical-align: middle;\n",
              "    }\n",
              "\n",
              "    .dataframe tbody tr th {\n",
              "        vertical-align: top;\n",
              "    }\n",
              "\n",
              "    .dataframe thead th {\n",
              "        text-align: right;\n",
              "    }\n",
              "</style>\n",
              "<table border=\"1\" class=\"dataframe\">\n",
              "  <thead>\n",
              "    <tr style=\"text-align: right;\">\n",
              "      <th></th>\n",
              "      <th>documentary</th>\n",
              "      <th>action</th>\n",
              "      <th>family</th>\n",
              "      <th>comedy</th>\n",
              "      <th>romance</th>\n",
              "      <th>mystery</th>\n",
              "      <th>foreign</th>\n",
              "      <th>music</th>\n",
              "      <th>western</th>\n",
              "      <th>animation</th>\n",
              "      <th>crime</th>\n",
              "      <th>science</th>\n",
              "      <th>thriller</th>\n",
              "      <th>war</th>\n",
              "      <th>tv</th>\n",
              "      <th>adventure</th>\n",
              "      <th>fiction</th>\n",
              "      <th>movie</th>\n",
              "      <th>horror</th>\n",
              "      <th>history</th>\n",
              "      <th>drama</th>\n",
              "      <th>fantasy</th>\n",
              "    </tr>\n",
              "    <tr>\n",
              "      <th>judul</th>\n",
              "      <th></th>\n",
              "      <th></th>\n",
              "      <th></th>\n",
              "      <th></th>\n",
              "      <th></th>\n",
              "      <th></th>\n",
              "      <th></th>\n",
              "      <th></th>\n",
              "      <th></th>\n",
              "      <th></th>\n",
              "      <th></th>\n",
              "      <th></th>\n",
              "      <th></th>\n",
              "      <th></th>\n",
              "      <th></th>\n",
              "      <th></th>\n",
              "      <th></th>\n",
              "      <th></th>\n",
              "      <th></th>\n",
              "      <th></th>\n",
              "      <th></th>\n",
              "      <th></th>\n",
              "    </tr>\n",
              "  </thead>\n",
              "  <tbody>\n",
              "    <tr>\n",
              "      <th>The Box</th>\n",
              "      <td>0</td>\n",
              "      <td>1</td>\n",
              "      <td>0</td>\n",
              "      <td>0</td>\n",
              "      <td>0</td>\n",
              "      <td>0</td>\n",
              "      <td>0</td>\n",
              "      <td>0</td>\n",
              "      <td>0</td>\n",
              "      <td>0</td>\n",
              "      <td>1</td>\n",
              "      <td>0</td>\n",
              "      <td>1</td>\n",
              "      <td>0</td>\n",
              "      <td>0</td>\n",
              "      <td>0</td>\n",
              "      <td>0</td>\n",
              "      <td>0</td>\n",
              "      <td>0</td>\n",
              "      <td>0</td>\n",
              "      <td>0</td>\n",
              "      <td>0</td>\n",
              "    </tr>\n",
              "    <tr>\n",
              "      <th>Contracorriente</th>\n",
              "      <td>0</td>\n",
              "      <td>0</td>\n",
              "      <td>0</td>\n",
              "      <td>0</td>\n",
              "      <td>1</td>\n",
              "      <td>0</td>\n",
              "      <td>0</td>\n",
              "      <td>0</td>\n",
              "      <td>0</td>\n",
              "      <td>0</td>\n",
              "      <td>0</td>\n",
              "      <td>0</td>\n",
              "      <td>0</td>\n",
              "      <td>0</td>\n",
              "      <td>0</td>\n",
              "      <td>0</td>\n",
              "      <td>0</td>\n",
              "      <td>0</td>\n",
              "      <td>0</td>\n",
              "      <td>0</td>\n",
              "      <td>1</td>\n",
              "      <td>0</td>\n",
              "    </tr>\n",
              "    <tr>\n",
              "      <th>La Voie Lactée</th>\n",
              "      <td>0</td>\n",
              "      <td>0</td>\n",
              "      <td>0</td>\n",
              "      <td>1</td>\n",
              "      <td>0</td>\n",
              "      <td>0</td>\n",
              "      <td>0</td>\n",
              "      <td>0</td>\n",
              "      <td>0</td>\n",
              "      <td>0</td>\n",
              "      <td>0</td>\n",
              "      <td>0</td>\n",
              "      <td>0</td>\n",
              "      <td>0</td>\n",
              "      <td>0</td>\n",
              "      <td>0</td>\n",
              "      <td>0</td>\n",
              "      <td>0</td>\n",
              "      <td>0</td>\n",
              "      <td>0</td>\n",
              "      <td>1</td>\n",
              "      <td>0</td>\n",
              "    </tr>\n",
              "    <tr>\n",
              "      <th>Bob le Flambeur</th>\n",
              "      <td>0</td>\n",
              "      <td>1</td>\n",
              "      <td>0</td>\n",
              "      <td>0</td>\n",
              "      <td>0</td>\n",
              "      <td>0</td>\n",
              "      <td>0</td>\n",
              "      <td>0</td>\n",
              "      <td>0</td>\n",
              "      <td>0</td>\n",
              "      <td>1</td>\n",
              "      <td>0</td>\n",
              "      <td>0</td>\n",
              "      <td>0</td>\n",
              "      <td>0</td>\n",
              "      <td>0</td>\n",
              "      <td>0</td>\n",
              "      <td>0</td>\n",
              "      <td>0</td>\n",
              "      <td>0</td>\n",
              "      <td>1</td>\n",
              "      <td>0</td>\n",
              "    </tr>\n",
              "    <tr>\n",
              "      <th>The Fox and the Hound</th>\n",
              "      <td>0</td>\n",
              "      <td>0</td>\n",
              "      <td>1</td>\n",
              "      <td>0</td>\n",
              "      <td>0</td>\n",
              "      <td>0</td>\n",
              "      <td>0</td>\n",
              "      <td>0</td>\n",
              "      <td>0</td>\n",
              "      <td>1</td>\n",
              "      <td>0</td>\n",
              "      <td>0</td>\n",
              "      <td>0</td>\n",
              "      <td>0</td>\n",
              "      <td>0</td>\n",
              "      <td>1</td>\n",
              "      <td>0</td>\n",
              "      <td>0</td>\n",
              "      <td>0</td>\n",
              "      <td>0</td>\n",
              "      <td>1</td>\n",
              "      <td>0</td>\n",
              "    </tr>\n",
              "    <tr>\n",
              "      <th>Taking Chances</th>\n",
              "      <td>0</td>\n",
              "      <td>0</td>\n",
              "      <td>0</td>\n",
              "      <td>1</td>\n",
              "      <td>1</td>\n",
              "      <td>0</td>\n",
              "      <td>0</td>\n",
              "      <td>0</td>\n",
              "      <td>0</td>\n",
              "      <td>0</td>\n",
              "      <td>0</td>\n",
              "      <td>0</td>\n",
              "      <td>0</td>\n",
              "      <td>0</td>\n",
              "      <td>0</td>\n",
              "      <td>0</td>\n",
              "      <td>0</td>\n",
              "      <td>0</td>\n",
              "      <td>0</td>\n",
              "      <td>0</td>\n",
              "      <td>0</td>\n",
              "      <td>0</td>\n",
              "    </tr>\n",
              "    <tr>\n",
              "      <th>번지 점프를 하다</th>\n",
              "      <td>0</td>\n",
              "      <td>0</td>\n",
              "      <td>0</td>\n",
              "      <td>0</td>\n",
              "      <td>1</td>\n",
              "      <td>0</td>\n",
              "      <td>0</td>\n",
              "      <td>0</td>\n",
              "      <td>0</td>\n",
              "      <td>0</td>\n",
              "      <td>0</td>\n",
              "      <td>0</td>\n",
              "      <td>0</td>\n",
              "      <td>0</td>\n",
              "      <td>0</td>\n",
              "      <td>0</td>\n",
              "      <td>0</td>\n",
              "      <td>0</td>\n",
              "      <td>0</td>\n",
              "      <td>0</td>\n",
              "      <td>1</td>\n",
              "      <td>0</td>\n",
              "    </tr>\n",
              "    <tr>\n",
              "      <th>The Rise and Fall of a Jungle Giant</th>\n",
              "      <td>1</td>\n",
              "      <td>0</td>\n",
              "      <td>0</td>\n",
              "      <td>0</td>\n",
              "      <td>0</td>\n",
              "      <td>0</td>\n",
              "      <td>0</td>\n",
              "      <td>0</td>\n",
              "      <td>0</td>\n",
              "      <td>0</td>\n",
              "      <td>0</td>\n",
              "      <td>0</td>\n",
              "      <td>0</td>\n",
              "      <td>0</td>\n",
              "      <td>0</td>\n",
              "      <td>0</td>\n",
              "      <td>0</td>\n",
              "      <td>0</td>\n",
              "      <td>0</td>\n",
              "      <td>0</td>\n",
              "      <td>0</td>\n",
              "      <td>0</td>\n",
              "    </tr>\n",
              "    <tr>\n",
              "      <th>The Soul of a Man</th>\n",
              "      <td>1</td>\n",
              "      <td>0</td>\n",
              "      <td>0</td>\n",
              "      <td>0</td>\n",
              "      <td>0</td>\n",
              "      <td>0</td>\n",
              "      <td>0</td>\n",
              "      <td>1</td>\n",
              "      <td>0</td>\n",
              "      <td>0</td>\n",
              "      <td>0</td>\n",
              "      <td>0</td>\n",
              "      <td>0</td>\n",
              "      <td>0</td>\n",
              "      <td>0</td>\n",
              "      <td>0</td>\n",
              "      <td>0</td>\n",
              "      <td>0</td>\n",
              "      <td>0</td>\n",
              "      <td>0</td>\n",
              "      <td>0</td>\n",
              "      <td>0</td>\n",
              "    </tr>\n",
              "    <tr>\n",
              "      <th>The Killer Inside Me</th>\n",
              "      <td>0</td>\n",
              "      <td>0</td>\n",
              "      <td>0</td>\n",
              "      <td>0</td>\n",
              "      <td>0</td>\n",
              "      <td>0</td>\n",
              "      <td>0</td>\n",
              "      <td>0</td>\n",
              "      <td>0</td>\n",
              "      <td>0</td>\n",
              "      <td>1</td>\n",
              "      <td>0</td>\n",
              "      <td>1</td>\n",
              "      <td>0</td>\n",
              "      <td>0</td>\n",
              "      <td>0</td>\n",
              "      <td>0</td>\n",
              "      <td>0</td>\n",
              "      <td>0</td>\n",
              "      <td>0</td>\n",
              "      <td>1</td>\n",
              "      <td>0</td>\n",
              "    </tr>\n",
              "  </tbody>\n",
              "</table>\n",
              "</div>"
            ],
            "text/plain": [
              "                                     documentary  action  ...  drama  fantasy\n",
              "judul                                                     ...                \n",
              "The Box                                        0       1  ...      0        0\n",
              "Contracorriente                                0       0  ...      1        0\n",
              "La Voie Lactée                                 0       0  ...      1        0\n",
              "Bob le Flambeur                                0       1  ...      1        0\n",
              "The Fox and the Hound                          0       0  ...      1        0\n",
              "Taking Chances                                 0       0  ...      0        0\n",
              "번지 점프를 하다                                      0       0  ...      1        0\n",
              "The Rise and Fall of a Jungle Giant            1       0  ...      0        0\n",
              "The Soul of a Man                              1       0  ...      0        0\n",
              "The Killer Inside Me                           0       0  ...      1        0\n",
              "\n",
              "[10 rows x 22 columns]"
            ]
          },
          "metadata": {},
          "execution_count": 31
        }
      ]
    },
    {
      "cell_type": "markdown",
      "metadata": {
        "id": "T30rBud7to2J"
      },
      "source": [
        "Pada tahapini kita melihat matriks tf-idf untuk beberapa judul film dan kategori genre"
      ]
    },
    {
      "cell_type": "markdown",
      "metadata": {
        "id": "3RPbFVjgpxE1"
      },
      "source": [
        "#Latih Model dengan cosine similarity"
      ]
    },
    {
      "cell_type": "code",
      "metadata": {
        "id": "M8nFQY8JvIwR",
        "colab": {
          "base_uri": "https://localhost:8080/"
        },
        "outputId": "f143af9d-7ea7-4832-dff1-fd202f751088"
      },
      "source": [
        "from sklearn.metrics.pairwise import cosine_similarity\n",
        " \n",
        "# Menghitung cosine similarity pada matrix tf-idf\n",
        "cosine_sim = cosine_similarity(tfidf_matrix) \n",
        "cosine_sim"
      ],
      "execution_count": 32,
      "outputs": [
        {
          "output_type": "execute_result",
          "data": {
            "text/plain": [
              "array([[1.        , 0.40824829, 0.40824829, ..., 0.40824829, 0.40824829,\n",
              "        0.40824829],\n",
              "       [0.40824829, 1.        , 0.        , ..., 1.        , 0.5       ,\n",
              "        0.        ],\n",
              "       [0.40824829, 0.        , 1.        , ..., 0.        , 0.        ,\n",
              "        0.5       ],\n",
              "       ...,\n",
              "       [0.40824829, 1.        , 0.        , ..., 1.        , 0.5       ,\n",
              "        0.        ],\n",
              "       [0.40824829, 0.5       , 0.        , ..., 0.5       , 1.        ,\n",
              "        0.        ],\n",
              "       [0.40824829, 0.        , 0.5       , ..., 0.        , 0.        ,\n",
              "        1.        ]])"
            ]
          },
          "metadata": {},
          "execution_count": 32
        }
      ]
    },
    {
      "cell_type": "markdown",
      "metadata": {
        "id": "tIiOi_v2uBHq"
      },
      "source": [
        "Pada tahap ini dihitung cosine similarity dataframe tfidf_matrix yang kita peroleh pada tahapan sebelumnya"
      ]
    },
    {
      "cell_type": "code",
      "metadata": {
        "id": "IczcQXgvvxlX",
        "colab": {
          "base_uri": "https://localhost:8080/",
          "height": 397
        },
        "outputId": "e4396655-49ab-4f04-984a-363aae7781c0"
      },
      "source": [
        "cosine_sim_df = pd.DataFrame(cosine_sim, index=data['judul'], columns=genre)\n",
        "print('Shape:', cosine_sim_df.shape)\n",
        " \n",
        "\n",
        "cosine_sim_df.sample(5, axis=1).sample(10, axis=0)"
      ],
      "execution_count": 33,
      "outputs": [
        {
          "output_type": "stream",
          "name": "stdout",
          "text": [
            "Shape: (5134, 5134)\n"
          ]
        },
        {
          "output_type": "execute_result",
          "data": {
            "text/html": [
              "<div>\n",
              "<style scoped>\n",
              "    .dataframe tbody tr th:only-of-type {\n",
              "        vertical-align: middle;\n",
              "    }\n",
              "\n",
              "    .dataframe tbody tr th {\n",
              "        vertical-align: top;\n",
              "    }\n",
              "\n",
              "    .dataframe thead th {\n",
              "        text-align: right;\n",
              "    }\n",
              "</style>\n",
              "<table border=\"1\" class=\"dataframe\">\n",
              "  <thead>\n",
              "    <tr style=\"text-align: right;\">\n",
              "      <th></th>\n",
              "      <th>['Comedy', 'Horror']</th>\n",
              "      <th>['Action']</th>\n",
              "      <th>['Thriller']</th>\n",
              "      <th>['Comedy', 'Drama']</th>\n",
              "      <th>['Drama', 'Action', 'Thriller', 'Crime', 'Foreign']</th>\n",
              "    </tr>\n",
              "    <tr>\n",
              "      <th>judul</th>\n",
              "      <th></th>\n",
              "      <th></th>\n",
              "      <th></th>\n",
              "      <th></th>\n",
              "      <th></th>\n",
              "    </tr>\n",
              "  </thead>\n",
              "  <tbody>\n",
              "    <tr>\n",
              "      <th>High Hopes</th>\n",
              "      <td>0.500000</td>\n",
              "      <td>0.0</td>\n",
              "      <td>0.0</td>\n",
              "      <td>1.000000</td>\n",
              "      <td>0.316228</td>\n",
              "    </tr>\n",
              "    <tr>\n",
              "      <th>Les Patterson Saves the World</th>\n",
              "      <td>0.707107</td>\n",
              "      <td>0.0</td>\n",
              "      <td>0.0</td>\n",
              "      <td>0.707107</td>\n",
              "      <td>0.000000</td>\n",
              "    </tr>\n",
              "    <tr>\n",
              "      <th>Rambo: First Blood Part II</th>\n",
              "      <td>0.000000</td>\n",
              "      <td>0.5</td>\n",
              "      <td>0.5</td>\n",
              "      <td>0.000000</td>\n",
              "      <td>0.447214</td>\n",
              "    </tr>\n",
              "    <tr>\n",
              "      <th>Maudie</th>\n",
              "      <td>0.000000</td>\n",
              "      <td>0.0</td>\n",
              "      <td>0.0</td>\n",
              "      <td>0.408248</td>\n",
              "      <td>0.258199</td>\n",
              "    </tr>\n",
              "    <tr>\n",
              "      <th>Gasland</th>\n",
              "      <td>0.000000</td>\n",
              "      <td>0.0</td>\n",
              "      <td>0.0</td>\n",
              "      <td>0.000000</td>\n",
              "      <td>0.000000</td>\n",
              "    </tr>\n",
              "    <tr>\n",
              "      <th>Excuse Me for Living</th>\n",
              "      <td>0.500000</td>\n",
              "      <td>0.0</td>\n",
              "      <td>0.0</td>\n",
              "      <td>0.500000</td>\n",
              "      <td>0.000000</td>\n",
              "    </tr>\n",
              "    <tr>\n",
              "      <th>Big Time</th>\n",
              "      <td>0.000000</td>\n",
              "      <td>0.0</td>\n",
              "      <td>0.0</td>\n",
              "      <td>0.353553</td>\n",
              "      <td>0.223607</td>\n",
              "    </tr>\n",
              "    <tr>\n",
              "      <th>The Emperor's Club</th>\n",
              "      <td>0.000000</td>\n",
              "      <td>0.0</td>\n",
              "      <td>0.0</td>\n",
              "      <td>0.500000</td>\n",
              "      <td>0.316228</td>\n",
              "    </tr>\n",
              "    <tr>\n",
              "      <th>Bright Lights, Big City</th>\n",
              "      <td>0.000000</td>\n",
              "      <td>0.0</td>\n",
              "      <td>0.0</td>\n",
              "      <td>0.707107</td>\n",
              "      <td>0.447214</td>\n",
              "    </tr>\n",
              "    <tr>\n",
              "      <th>Braveheart</th>\n",
              "      <td>0.000000</td>\n",
              "      <td>0.5</td>\n",
              "      <td>0.0</td>\n",
              "      <td>0.353553</td>\n",
              "      <td>0.447214</td>\n",
              "    </tr>\n",
              "  </tbody>\n",
              "</table>\n",
              "</div>"
            ],
            "text/plain": [
              "                               ['Comedy', 'Horror']  ...  ['Drama', 'Action', 'Thriller', 'Crime', 'Foreign']\n",
              "judul                                                ...                                                     \n",
              "High Hopes                                 0.500000  ...                                             0.316228\n",
              "Les Patterson Saves the World              0.707107  ...                                             0.000000\n",
              "Rambo: First Blood Part II                 0.000000  ...                                             0.447214\n",
              "Maudie                                     0.000000  ...                                             0.258199\n",
              "Gasland                                    0.000000  ...                                             0.000000\n",
              "Excuse Me for Living                       0.500000  ...                                             0.000000\n",
              "Big Time                                   0.000000  ...                                             0.223607\n",
              "The Emperor's Club                         0.000000  ...                                             0.316228\n",
              "Bright Lights, Big City                    0.000000  ...                                             0.447214\n",
              "Braveheart                                 0.000000  ...                                             0.447214\n",
              "\n",
              "[10 rows x 5 columns]"
            ]
          },
          "metadata": {},
          "execution_count": 33
        }
      ]
    },
    {
      "cell_type": "markdown",
      "metadata": {
        "id": "belAT6xkuM7b"
      },
      "source": [
        "Pada tahap ini diperlihatkan matriks kesamaan setiap judul dengan menampilkan judul film dalam 5 sampel kolom (axis = 1) dan 10 sampel baris (axis=0)."
      ]
    },
    {
      "cell_type": "markdown",
      "metadata": {
        "id": "L98anLu-qBzR"
      },
      "source": [
        "#Uji Model"
      ]
    },
    {
      "cell_type": "code",
      "metadata": {
        "id": "NF6Aqjc51Ttv",
        "colab": {
          "base_uri": "https://localhost:8080/"
        },
        "outputId": "93bb7221-4eb2-4a02-bb5f-676ec7045c98"
      },
      "source": [
        "indices = pd.Series(index = data['judul'], data = data.index).drop_duplicates()\n",
        "indices.head()"
      ],
      "execution_count": 34,
      "outputs": [
        {
          "output_type": "execute_result",
          "data": {
            "text/plain": [
              "judul\n",
              "The American President         0\n",
              "Dracula: Dead and Loving It    1\n",
              "Nixon                          2\n",
              "Money Train                    3\n",
              "Now and Then                   4\n",
              "dtype: int64"
            ]
          },
          "metadata": {},
          "execution_count": 34
        }
      ]
    },
    {
      "cell_type": "markdown",
      "metadata": {
        "id": "OxGwV3SYu5B4"
      },
      "source": [
        "Pada tahap dilakukan indikasi dan diperlihatkan judul film berdasarkan urutan dari data"
      ]
    },
    {
      "cell_type": "code",
      "metadata": {
        "id": "BB3sCNty7FZF"
      },
      "source": [
        "def get_recommendations(judul, cosine_sim = cosine_sim,items=data[['judul','genre']]):\n",
        "    # Mengambil indeks dari judul film yang telah didefinisikan sebelumnnya\n",
        "    idx = indices[judul]\n",
        "    \n",
        "    # Mengambil skor kemiripan dengan semua judul film \n",
        "    sim_scores = list(enumerate(cosine_sim[idx]))\n",
        "    \n",
        "    # Mengurutkan film berdasarkan skor kemiripan\n",
        "    sim_scores = sorted(sim_scores, key = lambda x : x[1], reverse = True)\n",
        "    \n",
        "    # Mengambil 10 skor kemiripan dari 1-10 karena urutan 0 memberikan indeks yang sama dengan judul film yang diinput\n",
        "    sim_scores = sim_scores[1:11]\n",
        "    \n",
        "    # Mengambil judul film dari skor kemiripan\n",
        "    movie_indices = [i[0] for i in sim_scores]\n",
        "    \n",
        "    # Mengembalikan 10 rekomendasi judul film dari kemiripan skor yang telah diurutkan dan menampilkan genre dari 10 rekomendasi film tersebut\n",
        "    return pd.DataFrame(data['judul'][movie_indices]).merge(items)"
      ],
      "execution_count": 35,
      "outputs": []
    },
    {
      "cell_type": "markdown",
      "metadata": {
        "id": "Bg744NPJIdOs"
      },
      "source": [
        "Pada tahap ini dibuat fungsi untuk memanggil 10 rekomendasi film berdasarkan judul yang di input"
      ]
    },
    {
      "cell_type": "code",
      "metadata": {
        "colab": {
          "base_uri": "https://localhost:8080/",
          "height": 78
        },
        "id": "nY_atjOztDH4",
        "outputId": "a465b116-c102-460a-f714-6741808bf815"
      },
      "source": [
        "data[data.judul.eq('The American President')]"
      ],
      "execution_count": 36,
      "outputs": [
        {
          "output_type": "execute_result",
          "data": {
            "text/html": [
              "<div>\n",
              "<style scoped>\n",
              "    .dataframe tbody tr th:only-of-type {\n",
              "        vertical-align: middle;\n",
              "    }\n",
              "\n",
              "    .dataframe tbody tr th {\n",
              "        vertical-align: top;\n",
              "    }\n",
              "\n",
              "    .dataframe thead th {\n",
              "        text-align: right;\n",
              "    }\n",
              "</style>\n",
              "<table border=\"1\" class=\"dataframe\">\n",
              "  <thead>\n",
              "    <tr style=\"text-align: right;\">\n",
              "      <th></th>\n",
              "      <th>judul</th>\n",
              "      <th>genre</th>\n",
              "    </tr>\n",
              "  </thead>\n",
              "  <tbody>\n",
              "    <tr>\n",
              "      <th>0</th>\n",
              "      <td>The American President</td>\n",
              "      <td>[Comedy, Drama, Romance]</td>\n",
              "    </tr>\n",
              "  </tbody>\n",
              "</table>\n",
              "</div>"
            ],
            "text/plain": [
              "                    judul                     genre\n",
              "0  The American President  [Comedy, Drama, Romance]"
            ]
          },
          "metadata": {},
          "execution_count": 36
        }
      ]
    },
    {
      "cell_type": "markdown",
      "metadata": {
        "id": "mAr8Ppb6vPPU"
      },
      "source": [
        "Pada tahap ini dilakukan cek apakah judul film ada pada data atau tidak"
      ]
    },
    {
      "cell_type": "code",
      "metadata": {
        "colab": {
          "base_uri": "https://localhost:8080/",
          "height": 351
        },
        "id": "P3SeQZvEsAGN",
        "outputId": "343c3640-285b-401e-e002-a5776e1594c8"
      },
      "source": [
        "rekomendasi = pd.DataFrame(get_recommendations('The American President'))\n",
        "rekomendasi"
      ],
      "execution_count": 37,
      "outputs": [
        {
          "output_type": "execute_result",
          "data": {
            "text/html": [
              "<div>\n",
              "<style scoped>\n",
              "    .dataframe tbody tr th:only-of-type {\n",
              "        vertical-align: middle;\n",
              "    }\n",
              "\n",
              "    .dataframe tbody tr th {\n",
              "        vertical-align: top;\n",
              "    }\n",
              "\n",
              "    .dataframe thead th {\n",
              "        text-align: right;\n",
              "    }\n",
              "</style>\n",
              "<table border=\"1\" class=\"dataframe\">\n",
              "  <thead>\n",
              "    <tr style=\"text-align: right;\">\n",
              "      <th></th>\n",
              "      <th>judul</th>\n",
              "      <th>genre</th>\n",
              "    </tr>\n",
              "  </thead>\n",
              "  <tbody>\n",
              "    <tr>\n",
              "      <th>0</th>\n",
              "      <td>Nueba Yol</td>\n",
              "      <td>[Comedy, Drama, Romance]</td>\n",
              "    </tr>\n",
              "    <tr>\n",
              "      <th>1</th>\n",
              "      <td>飲食男女</td>\n",
              "      <td>[Comedy, Drama, Romance]</td>\n",
              "    </tr>\n",
              "    <tr>\n",
              "      <th>2</th>\n",
              "      <td>Only You</td>\n",
              "      <td>[Comedy, Drama, Romance]</td>\n",
              "    </tr>\n",
              "    <tr>\n",
              "      <th>3</th>\n",
              "      <td>Muriel's Wedding</td>\n",
              "      <td>[Drama, Comedy, Romance]</td>\n",
              "    </tr>\n",
              "    <tr>\n",
              "      <th>4</th>\n",
              "      <td>The Favor</td>\n",
              "      <td>[Drama, Comedy, Romance]</td>\n",
              "    </tr>\n",
              "    <tr>\n",
              "      <th>5</th>\n",
              "      <td>The Inkwell</td>\n",
              "      <td>[Comedy, Drama, Romance]</td>\n",
              "    </tr>\n",
              "    <tr>\n",
              "      <th>6</th>\n",
              "      <td>Meet John Doe</td>\n",
              "      <td>[Drama, Comedy, Romance]</td>\n",
              "    </tr>\n",
              "    <tr>\n",
              "      <th>7</th>\n",
              "      <td>The Pompatus of Love</td>\n",
              "      <td>[Comedy, Romance, Drama]</td>\n",
              "    </tr>\n",
              "    <tr>\n",
              "      <th>8</th>\n",
              "      <td>Jerry Maguire</td>\n",
              "      <td>[Comedy, Drama, Romance]</td>\n",
              "    </tr>\n",
              "    <tr>\n",
              "      <th>9</th>\n",
              "      <td>Roseanna's Grave</td>\n",
              "      <td>[Comedy, Romance, Drama]</td>\n",
              "    </tr>\n",
              "  </tbody>\n",
              "</table>\n",
              "</div>"
            ],
            "text/plain": [
              "                  judul                     genre\n",
              "0             Nueba Yol  [Comedy, Drama, Romance]\n",
              "1                  飲食男女  [Comedy, Drama, Romance]\n",
              "2              Only You  [Comedy, Drama, Romance]\n",
              "3      Muriel's Wedding  [Drama, Comedy, Romance]\n",
              "4             The Favor  [Drama, Comedy, Romance]\n",
              "5           The Inkwell  [Comedy, Drama, Romance]\n",
              "6         Meet John Doe  [Drama, Comedy, Romance]\n",
              "7  The Pompatus of Love  [Comedy, Romance, Drama]\n",
              "8         Jerry Maguire  [Comedy, Drama, Romance]\n",
              "9      Roseanna's Grave  [Comedy, Romance, Drama]"
            ]
          },
          "metadata": {},
          "execution_count": 37
        }
      ]
    },
    {
      "cell_type": "markdown",
      "metadata": {
        "id": "6i8YbxAsvU0X"
      },
      "source": [
        "Pada tahap ini ditampilkan 10 rekomendasi film dari judul yang telah di input"
      ]
    },
    {
      "cell_type": "code",
      "metadata": {
        "colab": {
          "base_uri": "https://localhost:8080/",
          "height": 138
        },
        "id": "aiHPs40s2agc",
        "outputId": "81fbf9ab-f782-44f8-a8a5-4ec079027f98"
      },
      "source": [
        "value = pd.DataFrame(rekomendasi['genre'].value_counts().reset_index().values, columns = ['genre', 'count'])\n",
        "value.head()"
      ],
      "execution_count": 38,
      "outputs": [
        {
          "output_type": "execute_result",
          "data": {
            "text/html": [
              "<div>\n",
              "<style scoped>\n",
              "    .dataframe tbody tr th:only-of-type {\n",
              "        vertical-align: middle;\n",
              "    }\n",
              "\n",
              "    .dataframe tbody tr th {\n",
              "        vertical-align: top;\n",
              "    }\n",
              "\n",
              "    .dataframe thead th {\n",
              "        text-align: right;\n",
              "    }\n",
              "</style>\n",
              "<table border=\"1\" class=\"dataframe\">\n",
              "  <thead>\n",
              "    <tr style=\"text-align: right;\">\n",
              "      <th></th>\n",
              "      <th>genre</th>\n",
              "      <th>count</th>\n",
              "    </tr>\n",
              "  </thead>\n",
              "  <tbody>\n",
              "    <tr>\n",
              "      <th>0</th>\n",
              "      <td>[Comedy, Drama, Romance]</td>\n",
              "      <td>5</td>\n",
              "    </tr>\n",
              "    <tr>\n",
              "      <th>1</th>\n",
              "      <td>[Drama, Comedy, Romance]</td>\n",
              "      <td>3</td>\n",
              "    </tr>\n",
              "    <tr>\n",
              "      <th>2</th>\n",
              "      <td>[Comedy, Romance, Drama]</td>\n",
              "      <td>2</td>\n",
              "    </tr>\n",
              "  </tbody>\n",
              "</table>\n",
              "</div>"
            ],
            "text/plain": [
              "                      genre count\n",
              "0  [Comedy, Drama, Romance]     5\n",
              "1  [Drama, Comedy, Romance]     3\n",
              "2  [Comedy, Romance, Drama]     2"
            ]
          },
          "metadata": {},
          "execution_count": 38
        }
      ]
    },
    {
      "cell_type": "markdown",
      "metadata": {
        "id": "EYD8lgZ690T2"
      },
      "source": [
        "Pada tahap ini melihat jumlah genre dari rekomendasi"
      ]
    },
    {
      "cell_type": "code",
      "metadata": {
        "colab": {
          "base_uri": "https://localhost:8080/"
        },
        "id": "zNFK3qm12o17",
        "outputId": "48929361-ecc0-4f80-f0e7-ae38443d2e22"
      },
      "source": [
        "TP = 10 #jumlah prediksi benar untuk genre yang mirip atau serupa\n",
        "FP = 0 #jumlah prediksi salah untuk genre yang mirip atau serupa\n",
        "\n",
        "Precision = TP/(TP+FP)\n",
        "print(\"{0:.0%}\".format(Precision))\n"
      ],
      "execution_count": 39,
      "outputs": [
        {
          "output_type": "stream",
          "name": "stdout",
          "text": [
            "100%\n"
          ]
        }
      ]
    },
    {
      "cell_type": "markdown",
      "metadata": {
        "id": "sW4mjhlH9-ld"
      },
      "source": [
        "Pada tahap ini digunakan metrik precision untuk melihat akurasi"
      ]
    }
  ]
}